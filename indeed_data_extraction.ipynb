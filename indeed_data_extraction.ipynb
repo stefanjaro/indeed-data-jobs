{
 "cells": [
  {
   "cell_type": "code",
   "execution_count": 20,
   "id": "8c463364-c956-465e-8319-2d340d5af730",
   "metadata": {},
   "outputs": [],
   "source": [
    "# import libraries\n",
    "import time\n",
    "from bs4 import BeautifulSoup\n",
    "from selenium import webdriver\n",
    "from selenium.webdriver.common.keys import Keys\n",
    "import numpy as np\n",
    "import pandas as pd"
   ]
  },
  {
   "cell_type": "markdown",
   "id": "680dbf4f-fa24-4c03-a821-ce768db0de09",
   "metadata": {},
   "source": [
    "## Essential Data and Variables Required\n",
    "---"
   ]
  },
  {
   "cell_type": "code",
   "execution_count": 41,
   "id": "444c8263-7559-43e8-98c3-b86807961d5f",
   "metadata": {},
   "outputs": [],
   "source": [
    "# indeed homepage url\n",
    "indeed_url = r\"https://www.indeed.com/\"\n",
    "\n",
    "# list of all 50 states\n",
    "all_states = pd.read_csv(\"./usa_all_states.csv\")[\"StateName\"].tolist()\n",
    "\n",
    "# chromedriver location\n",
    "chromedriver_loc = r\"./chromedriver\"\n",
    "\n",
    "# search terms\n",
    "search_terms = [\"title:(data engineer)\", \"title:(data scientist)\", \"title:(data analyst)\"]"
   ]
  },
  {
   "cell_type": "markdown",
   "id": "0c7f2c72-d7f8-475a-9185-b32ffb8b1e5d",
   "metadata": {},
   "source": [
    "## Data Extraction from Indeed.com\n",
    "---"
   ]
  },
  {
   "cell_type": "code",
   "execution_count": 25,
   "id": "4de5091c-279b-4fee-a2d4-664b14955b83",
   "metadata": {},
   "outputs": [],
   "source": [
    "def fill_in_what_field(SEARCH_TERM):\n",
    "    \"\"\"\n",
    "    Select and fill in the \"What\" field on the main page of Indeed.com\n",
    "    with the SEARCH_TERM provided as an argument\n",
    "    \"\"\"\n",
    "    # find the element\n",
    "    job_search_elem = driver.find_element(by=\"id\", value=\"text-input-what\")\n",
    "    \n",
    "    # click on it and clear its contents\n",
    "    job_search_elem.click()\n",
    "    job_search_elem.send_keys(Keys.CONTROL + \"a\")\n",
    "    job_search_elem.send_keys(Keys.DELETE)\n",
    "    \n",
    "    # pass in the search term\n",
    "    job_search_elem.send_keys(SEARCH_TERM)"
   ]
  },
  {
   "cell_type": "code",
   "execution_count": 26,
   "id": "7b2a9b55-a364-4f16-abb7-d3b2f7d1dabf",
   "metadata": {},
   "outputs": [],
   "source": [
    "def fill_in_where_field(SEARCH_TERM):\n",
    "    \"\"\"\n",
    "    Select and fill in the \"Where\" field on the main page of Indeed.com\n",
    "    with the SEARCH_TERM provided as an argument\n",
    "    \"\"\"\n",
    "    # find the element\n",
    "    location_search_elem = driver.find_element(by=\"id\", value=\"text-input-where\")\n",
    "    \n",
    "    # click on it and clear its contents\n",
    "    location_search_elem.click()\n",
    "    location_search_elem.send_keys(Keys.CONTROL + \"a\")\n",
    "    location_search_elem.send_keys(Keys.DELETE)\n",
    "    \n",
    "    # pass in the search term\n",
    "    location_search_elem.send_keys(SEARCH_TERM)"
   ]
  },
  {
   "cell_type": "code",
   "execution_count": 44,
   "id": "fbb25c27-2049-4a01-93b5-0c6e03c6b770",
   "metadata": {},
   "outputs": [],
   "source": [
    "def click_on_find_jobs():\n",
    "    \"\"\"\n",
    "    Simply find and click on the \"Find Jobs\" button\n",
    "    \"\"\"\n",
    "    # find the button element\n",
    "    find_jobs_btn = driver.find_element(by=\"class name\", value=\"yosegi-InlineWhatWhere-primaryButton\")\n",
    "    \n",
    "    # click on the button\n",
    "    find_jobs_btn.click()"
   ]
  },
  {
   "cell_type": "code",
   "execution_count": 45,
   "id": "e2d52458-c6c8-4631-a012-40a78b122802",
   "metadata": {},
   "outputs": [],
   "source": [
    "def extract_data_required():\n",
    "    \"\"\"\n",
    "    Extracts the position and location summary as well as the number of jobs\n",
    "    from the search results page\n",
    "    \"\"\"\n",
    "    # extract the stated position and location\n",
    "    position_location = driver.find_element(by=\"id\", value=\"jobsInLocation\").text\n",
    "    \n",
    "    # extract the number of jobs (or pages)\n",
    "    num_of_jobs = driver.find_element(by=\"id\", value=\"searchCountPages\").text\n",
    "    \n",
    "    return position_location, num_of_jobs"
   ]
  },
  {
   "cell_type": "code",
   "execution_count": null,
   "id": "057af912-3ff3-4e2d-bf5c-6fe986c615eb",
   "metadata": {},
   "outputs": [],
   "source": [
    "# create a chromedriver instance\n",
    "driver = webdriver.Chrome(chromedriver_loc)\n",
    "\n",
    "# go to indeed\n",
    "driver.get(indeed_url)"
   ]
  },
  {
   "cell_type": "code",
   "execution_count": 42,
   "id": "9d9a15cc-5e36-41d7-9284-9146306cc94d",
   "metadata": {},
   "outputs": [],
   "source": [
    "# store of all data\n",
    "extracted_data = []"
   ]
  },
  {
   "cell_type": "code",
   "execution_count": 48,
   "id": "fc09be9a-cdbf-4cbc-a699-64a5362491c5",
   "metadata": {},
   "outputs": [],
   "source": [
    "# iterate across all states and search terms\n",
    "for us_state in all_states:\n",
    "    for search_term in search_terms:\n",
    "        # fill in the search fields\n",
    "        fill_in_what_field(search_term)\n",
    "        time.sleep(1)\n",
    "        fill_in_where_field(us_state)\n",
    "        time.sleep(1)\n",
    "        click_on_find_jobs()\n",
    "        \n",
    "        # sleep until it loads\n",
    "        time.sleep(5)\n",
    "        \n",
    "        # extract the data we require\n",
    "        position_location, num_of_jobs = extract_data_required()\n",
    "        \n",
    "        # store in our master list\n",
    "        extracted_data.append({\n",
    "            \"us_state\": us_state,\n",
    "            \"search_term\": search_term,\n",
    "            \"position_location\": position_location,\n",
    "            \"num_of_jobs\": num_of_jobs\n",
    "        })\n",
    "        \n",
    "        # export backup\n",
    "        pd.DataFrame(extracted_data).to_csv(\"scrape_backup.csv\", index=False)\n",
    "        \n",
    "        # sleep before resuming\n",
    "        time.sleep(5)"
   ]
  },
  {
   "cell_type": "code",
   "execution_count": 79,
   "id": "a21d87b7-dfc3-4a25-8707-1ba5b1c04535",
   "metadata": {},
   "outputs": [],
   "source": [
    "# store extracted data in dataframe\n",
    "df = pd.DataFrame(extracted_data)"
   ]
  },
  {
   "cell_type": "markdown",
   "id": "f5519d36-c018-4b55-bf9b-2325103b1882",
   "metadata": {},
   "source": [
    "## Light Data Cleaning and Export\n",
    "---"
   ]
  },
  {
   "cell_type": "code",
   "execution_count": 80,
   "id": "cc7244f6-3691-4e4d-ba32-d64b4babad3e",
   "metadata": {},
   "outputs": [],
   "source": [
    "# drop duplicates\n",
    "df = df.drop_duplicates()\n",
    "\n",
    "# extract search string from advanced search query\n",
    "df[\"search_string\"] = df[\"search_term\"].apply(lambda x: x.split(\":\")[-1].replace(\"(\", \"\").replace(\")\", \"\").strip().title())\n",
    "\n",
    "# extract job count and turn to int\n",
    "df[\"job_count\"] = df[\"num_of_jobs\"].apply(lambda x: x.split(\" \")[-2].replace(\",\", \"\").strip())\n",
    "df[\"job_count\"] = df[\"job_count\"].astype(int)"
   ]
  },
  {
   "cell_type": "code",
   "execution_count": 83,
   "id": "e0619e69-efef-4a27-a359-b32367c60d4f",
   "metadata": {},
   "outputs": [],
   "source": [
    "# export data\n",
    "df.to_csv(\"Extracted_From_Indeed_011922.csv\", index=False)"
   ]
  }
 ],
 "metadata": {
  "kernelspec": {
   "display_name": "Python 3 (ipykernel)",
   "language": "python",
   "name": "python3"
  },
  "language_info": {
   "codemirror_mode": {
    "name": "ipython",
    "version": 3
   },
   "file_extension": ".py",
   "mimetype": "text/x-python",
   "name": "python",
   "nbconvert_exporter": "python",
   "pygments_lexer": "ipython3",
   "version": "3.9.7"
  }
 },
 "nbformat": 4,
 "nbformat_minor": 5
}
